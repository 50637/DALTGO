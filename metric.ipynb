{
 "cells": [
  {
   "cell_type": "code",
   "execution_count": null,
   "metadata": {},
   "outputs": [],
   "source": [
    "from sklearn.metrics import precision_recall_curve\n",
    "from sklearn.metrics import auc\n",
    "from sklearn.metrics import roc_auc_score\n",
    "import numpy as np\n",
    "def auprc(ytrue, ypred):\n",
    "  p, r, t =  precision_recall_curve(ytrue, ypred)\n",
    "  return auc(r,p)\n",
    "\n",
    "def main(ytrue1, ypred1, hparams=None):\n",
    "\tprint(ytrue1)\n",
    "\tfmax = 0\n",
    "\tsmin=100000.0\n",
    "\tprec_list = []\n",
    "\trecall_list=[]\n",
    "\tic = np.load('../data/ours/bp-ic.npy')\n",
    "\tytrue=[]\n",
    "\typred=[]\n",
    "\t# delete those sample whose labels are all 0.\n",
    "\tfor i in range(len(ytrue1)):\n",
    "\t\tif np.sum(ytrue1[i]) >0:\n",
    "\t\t\tytrue.append(ytrue1[i])\n",
    "\t\t\typred.append(ypred1[i])\t\n",
    "\tfor t in range(1, 101):\n",
    "\t\tthres = t/100\n",
    "\t\tthres_array=np.ones((len(ytrue), len(ytrue[0])), dtype=np.float32) * thres\n",
    "\t\tpred_labels = np.greater(ypred, thres_array).astype(int)\n",
    "\t\ttp_matrix =pred_labels*ytrue\n",
    "\t\ttp = np.sum(tp_matrix, axis=1, dtype=np.int32)\n",
    "\t\ttpfp = np.sum(pred_labels, axis=1)\n",
    "\t\ttpfn = np.sum(ytrue,axis=1)\n",
    "\t\t#---------computing s1 and update smin if possible\n",
    "\t\tru = ytrue- tp_matrix\n",
    "\t\tmi = pred_labels - tp_matrix\n",
    "\t\truu = np.mean( np.matmul(ru, ic.astype(np.float32)))\n",
    "\t\tmii = np.mean( np.matmul(mi, ic.astype(np.float32)))\n",
    "\t\ts1 = np.sqrt(ruu**2 +mii**2)\n",
    "\t\tsmin=min(smin, s1)\n",
    "\t\tprint(smin)\n",
    "\t\t#---------computing f1 and update fmax if possible\n",
    "\t\tavgprs=[]\n",
    "\t\tfor i in range(len(tp)):\n",
    "\t\t\tif tpfp[i]!=0:\n",
    "\t\t\t\tavgprs.append(tp[i]/float(tpfp[i]))\n",
    "\n",
    "\t\tif len(avgprs)==0:\n",
    "\t\t\tcontinue\n",
    "\t\tavgpr = np.mean(avgprs)\n",
    "\t\tavgrc = np.mean(tp/tpfn)\n",
    "\t\tprec_list.append(avgpr)\n",
    "\t\trecall_list.append(avgrc)\n",
    "\t\tf1 = 2*avgpr*avgrc/(avgpr+avgrc)\n",
    "\t\tfmax=max(fmax, f1)\n",
    "\t\tauroc_micro = roc_auc_score(np.array(ytrue).flatten(), np.array(ypred).flatten(), multi_class='ovr', average='micro')\n",
    "\t\tauroc_macro = roc_auc_score(np.array(ytrue).flatten(), np.array(ypred).flatten(), multi_class='ovr', average='macro')\n",
    "\treturn fmax, smin, auprc(np.array(ytrue).flatten(), np.array(ypred).flatten()),auroc_macro,auroc_micro\n",
    "\n",
    "\t\n",
    "\n"
   ]
  },
  {
   "cell_type": "code",
   "execution_count": null,
   "metadata": {},
   "outputs": [],
   "source": [
    "if __name__=='__main__':\n",
    "\tytrue=np.array([[0,1,1,0], [1,0,1,0]])\n",
    "\typred = np.array([[0.2, 0.3, 0.3,0.5], [ 0.2, 0.3, 0.5, 0.3] ])\n",
    "\thparams={'data_path' : '../../data//', 'ontology':\"cc\"}\n",
    "\tmain(ytrue, ypred, hparams)\n",
    "\tprint (auprc(ytrue[0], ypred[0]))"
   ]
  }
 ],
 "metadata": {
  "kernelspec": {
   "display_name": "Python 3",
   "language": "python",
   "name": "python3"
  },
  "language_info": {
   "codemirror_mode": {
    "name": "ipython",
    "version": 3
   },
   "file_extension": ".py",
   "mimetype": "text/x-python",
   "name": "python",
   "nbconvert_exporter": "python",
   "pygments_lexer": "ipython3",
   "version": "3.8.5"
  }
 },
 "nbformat": 4,
 "nbformat_minor": 4
}
